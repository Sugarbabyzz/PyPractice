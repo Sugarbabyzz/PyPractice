{
 "cells": [
  {
   "cell_type": "markdown",
   "metadata": {},
   "source": [
    "实践中，使用PyTorch更方便的实现线性回归"
   ]
  },
  {
   "cell_type": "code",
   "execution_count": 31,
   "metadata": {},
   "outputs": [],
   "source": [
    "%matplotlib inline\n",
    "import torch\n",
    "from IPython import display\n",
    "from matplotlib import pyplot as plt\n",
    "import numpy as np\n",
    "import random\n",
    "import sys\n",
    "sys.path.append(\"..\")\n",
    "import d2lzh_pytorch\n",
    "\n",
    "import torch.utils.data as Data\n",
    "import torch.nn as nn\n",
    "from torch.nn import init\n",
    "import torch.optim as optim"
   ]
  },
  {
   "cell_type": "markdown",
   "metadata": {},
   "source": [
    "### 3.3.1 生成数据集"
   ]
  },
  {
   "cell_type": "code",
   "execution_count": 32,
   "metadata": {},
   "outputs": [],
   "source": [
    "num_inputs = 2\n",
    "num_examples = 1000\n",
    "true_w = [2, -3.4]\n",
    "true_b = 4.2\n",
    "features = torch.randn(num_examples, num_inputs, dtype=torch.float32)\n",
    "labels = true_w[0] * features[:, 0] + true_w[1] * features[: , 1] + true_b\n",
    "labels += torch.tensor(np.random.normal(0, 0.01, size=labels.size()),\n",
    "                      dtype=torch.float32)"
   ]
  },
  {
   "cell_type": "markdown",
   "metadata": {},
   "source": [
    "### 3.3.2 读取数据\n",
    "\n",
    "PyTorch 提供 `data`包 来读取数据。\n",
    "\n",
    "在每次迭代中，随机读取包含10个数据样本的小批量。"
   ]
  },
  {
   "cell_type": "code",
   "execution_count": 33,
   "metadata": {},
   "outputs": [],
   "source": [
    "batch_size = 10\n",
    "# 将训练集的特征和标签结合\n",
    "dataset = Data.TensorDataset(features, labels)\n",
    "# 随机读取小批量数据\n",
    "data_iter = Data.DataLoader(dataset, batch_size, shuffle=True)"
   ]
  },
  {
   "cell_type": "code",
   "execution_count": 34,
   "metadata": {},
   "outputs": [
    {
     "name": "stdout",
     "output_type": "stream",
     "text": [
      "tensor([[ 0.1615,  0.2345],\n",
      "        [ 0.9849,  1.5698],\n",
      "        [-0.5652,  0.0615],\n",
      "        [ 0.5380,  0.1752],\n",
      "        [ 1.0851, -1.2112],\n",
      "        [-0.1829,  1.1450],\n",
      "        [ 1.0213, -0.9987],\n",
      "        [ 1.1024, -0.2465],\n",
      "        [ 1.0887, -0.0362],\n",
      "        [-0.2539, -0.8371]]) tensor([ 3.7293,  0.8283,  2.8527,  4.6633, 10.4898, -0.0554,  9.6299,  7.2281,\n",
      "         6.5189,  6.5519])\n"
     ]
    }
   ],
   "source": [
    "for X, y in data_iter:\n",
    "    print(X, y)\n",
    "    break"
   ]
  },
  {
   "cell_type": "markdown",
   "metadata": {},
   "source": [
    "### 3.3.3 定义模型\n",
    "\n",
    "如果需要定义模型参数，并使用它们一步步描述模型，当模型结构变得复杂时，这些步骤将变得更繁琐。\n",
    "\n",
    "PyTorch已提供了大量预定义的层，我们只需要关注使用哪些层来构造模型。\n",
    "\n",
    "导入 `torch.nn` 模块。\n",
    "\n",
    "实际上，`nn`就是利用`autograd`来定义模型，`nn`的核心数据结构使`Module`。\n",
    "\n",
    "`Module`既可以表示神经网络中的某个层（Layer)，也可以表示一个包含很多层的神经网络。\n",
    "\n",
    "实际使用中，最常见的做法是继承 `nn.Module`，撰写自己的网络/层。一个`nn.Module`实例应该包含一些层以及返回输出的前向传播（forward）方法。\n",
    "\n",
    "下面使用`nn.Module`实现一个线性回归模型"
   ]
  },
  {
   "cell_type": "code",
   "execution_count": 35,
   "metadata": {},
   "outputs": [
    {
     "name": "stdout",
     "output_type": "stream",
     "text": [
      "LinearNet(\n",
      "  (linear): Linear(in_features=2, out_features=1, bias=True)\n",
      ")\n"
     ]
    }
   ],
   "source": [
    "class LinearNet(nn.Module):\n",
    "    def __init__(self, n_feature):\n",
    "        super(LinearNet, self).__init__()\n",
    "        self.linear = nn.Linear(n_feature, 1)\n",
    "    # forward 定义前向传播\n",
    "    def forward(self, x):\n",
    "        y = self.linear(x)\n",
    "        return y\n",
    "    \n",
    "net = LinearNet(num_inputs)\n",
    "print(net) # 打印网络结构"
   ]
  },
  {
   "cell_type": "markdown",
   "metadata": {},
   "source": [
    "`nn.Sequential`是一个有序的容器，网络层将按照传入`Sequential`的顺序，依次被添加到计算图中。"
   ]
  },
  {
   "cell_type": "code",
   "execution_count": 37,
   "metadata": {},
   "outputs": [
    {
     "name": "stdout",
     "output_type": "stream",
     "text": [
      "Sequential(\n",
      "  (linear): Linear(in_features=2, out_features=1, bias=True)\n",
      ")\n",
      "Linear(in_features=2, out_features=1, bias=True)\n"
     ]
    }
   ],
   "source": [
    "# 写法一\n",
    "net = nn.Sequential(\n",
    "    nn.Linear(num_inputs, 1)\n",
    "    # 此处可以传入其他层\n",
    ")\n",
    "\n",
    "# 写法二\n",
    "net = nn.Sequential()\n",
    "net.add_module('linear', nn.Linear(num_inputs, 1))\n",
    "# net.add_module...\n",
    "\n",
    "# 写法三\n",
    "from collections import OrderedDict\n",
    "net = nn.Sequential(OrderedDict([\n",
    "    ('linear', nn.Linear(num_inputs, 1))\n",
    "    \n",
    "]))\n",
    "\n",
    "print(net)\n",
    "print(net[0])"
   ]
  },
  {
   "cell_type": "markdown",
   "metadata": {},
   "source": [
    "通过`net.parameters()`查看模型所有的可学习参数，此函数返回一个生成器"
   ]
  },
  {
   "cell_type": "code",
   "execution_count": 40,
   "metadata": {},
   "outputs": [
    {
     "name": "stdout",
     "output_type": "stream",
     "text": [
      "Parameter containing:\n",
      "tensor([[0.0025, 0.0020]], requires_grad=True)\n",
      "Parameter containing:\n",
      "tensor([0.], requires_grad=True)\n"
     ]
    }
   ],
   "source": [
    "for param in net.parameters():\n",
    "    print(param)"
   ]
  },
  {
   "cell_type": "markdown",
   "metadata": {},
   "source": [
    "### 3.3.4 初始化模型参数\n",
    "\n",
    "初始化权重和偏差。\n",
    "\n",
    "`init`模块中提供了多种参数初始化方法。\n",
    "\n",
    "通过`init.normal_`将权重参数每个元素初始化为随机采样于均值为0、标准差为0.01的正态分布；偏差初始化为0."
   ]
  },
  {
   "cell_type": "code",
   "execution_count": 38,
   "metadata": {},
   "outputs": [
    {
     "data": {
      "text/plain": [
       "Parameter containing:\n",
       "tensor([0.], requires_grad=True)"
      ]
     },
     "execution_count": 38,
     "metadata": {},
     "output_type": "execute_result"
    }
   ],
   "source": [
    "init.normal_(net[0].weight, mean=0, std=0.01)\n",
    "init.constant_(net[0].bias, val=0)  # 也可以直接修改bias的data：net[0].bias.data.fill_(0)"
   ]
  },
  {
   "cell_type": "markdown",
   "metadata": {},
   "source": [
    "### 3.3.5 定义损失函数\n",
    "\n",
    "`nn`模块中提供了各种损失函数，这些损失函数可看作是一种特殊的层。\n",
    "\n",
    "PyTorch中将这些损失函数实现为 `nn.Module` 的子类\n",
    "\n",
    "下面使用均方误差损失作为模型的损失函数"
   ]
  },
  {
   "cell_type": "code",
   "execution_count": 39,
   "metadata": {},
   "outputs": [],
   "source": [
    "loss = nn.MSELoss()"
   ]
  },
  {
   "cell_type": "markdown",
   "metadata": {},
   "source": [
    "### 3.3.6 定义优化算法\n",
    "\n",
    "`torch.optim`模块提供了很多常用的优化算法，比如SGD、Adam和RMSProp等。\n",
    "\n",
    "下面创建一个用于优化`net`所有参数的优化器实例，并指定学习率为0.03的小批量随机梯度下降（SGD）为优化算法。"
   ]
  },
  {
   "cell_type": "code",
   "execution_count": 41,
   "metadata": {},
   "outputs": [
    {
     "name": "stdout",
     "output_type": "stream",
     "text": [
      "SGD (\n",
      "Parameter Group 0\n",
      "    dampening: 0\n",
      "    lr: 0.03\n",
      "    momentum: 0\n",
      "    nesterov: False\n",
      "    weight_decay: 0\n",
      ")\n"
     ]
    }
   ],
   "source": [
    "optimizer = optim.SGD(net.parameters(), lr=0.03)\n",
    "print(optimizer)"
   ]
  },
  {
   "cell_type": "markdown",
   "metadata": {},
   "source": [
    "可以为不同子网络设置不同的学习率，在 **finetune** 时经常用到\n",
    "\n",
    "optimizer = optim.SGD([\n",
    "    # 如果对某个参数不指定学习率，就使用最外层的默认学习率\n",
    "    {'params': net.subnet1.parameters()},\n",
    "    {'params': net.subnet2.parameters(), 'lr': 0.01},\n",
    "], lr=0.03)"
   ]
  },
  {
   "cell_type": "markdown",
   "metadata": {},
   "source": [
    "如果不想学习率固定成常数，调整学习率有两种方法\n",
    "- 修改`optimizer.param_groups`中对应的学习率\n",
    "- 新建优化器（推荐）\n",
    "    但对于使用动量的优化器（如Adam），会丢失动量等状态信息，可能会造成损失函数的收敛出现震荡等情况"
   ]
  },
  {
   "cell_type": "code",
   "execution_count": 29,
   "metadata": {},
   "outputs": [],
   "source": [
    "# 调整学习率\n",
    "for param_group in optimizer.param_groups:\n",
    "    param_group['lr'] *= 0.1  # 学习率为之前的0.1倍"
   ]
  },
  {
   "cell_type": "markdown",
   "metadata": {},
   "source": [
    "### 3.3.7 训练模型\n",
    "\n",
    "通过调用 `optim` 实例的 `step` 函数来迭代模型参数"
   ]
  },
  {
   "cell_type": "code",
   "execution_count": 42,
   "metadata": {},
   "outputs": [
    {
     "name": "stdout",
     "output_type": "stream",
     "text": [
      "epoch 1, loss:0.000080 \n",
      "epoch 2, loss:0.000093 \n",
      "epoch 3, loss:0.000084 \n"
     ]
    }
   ],
   "source": [
    "num_epochs = 3\n",
    "for epoch in range(1, num_epochs + 1):\n",
    "    for X, y in data_iter:\n",
    "        output = net(X)\n",
    "        l = loss(output, y.view(-1, 1))\n",
    "        optimizer.zero_grad()  # 梯度清零\n",
    "        l.backward()\n",
    "        optimizer.step()\n",
    "    print('epoch %d, loss:%f ' % (epoch, l.item()))"
   ]
  },
  {
   "cell_type": "code",
   "execution_count": 43,
   "metadata": {},
   "outputs": [
    {
     "name": "stdout",
     "output_type": "stream",
     "text": [
      "[2, -3.4] Parameter containing:\n",
      "tensor([[ 1.9997, -3.3997]], requires_grad=True)\n",
      "4.2 Parameter containing:\n",
      "tensor([4.2002], requires_grad=True)\n"
     ]
    }
   ],
   "source": [
    "# 比较学习到的参数和真实参数\n",
    "dense = net[0]\n",
    "print(true_w, dense.weight)\n",
    "print(true_b, dense.bias)"
   ]
  }
 ],
 "metadata": {
  "kernelspec": {
   "display_name": "pytorch_env",
   "language": "python",
   "name": "pytorch_env"
  },
  "language_info": {
   "codemirror_mode": {
    "name": "ipython",
    "version": 3
   },
   "file_extension": ".py",
   "mimetype": "text/x-python",
   "name": "python",
   "nbconvert_exporter": "python",
   "pygments_lexer": "ipython3",
   "version": "3.7.9"
  }
 },
 "nbformat": 4,
 "nbformat_minor": 4
}

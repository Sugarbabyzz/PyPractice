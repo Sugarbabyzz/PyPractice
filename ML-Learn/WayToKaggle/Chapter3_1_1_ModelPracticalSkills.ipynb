{
 "cells": [
  {
   "cell_type": "markdown",
   "metadata": {},
   "source": [
    "### 3.1.1 特征提升"
   ]
  },
  {
   "cell_type": "markdown",
   "metadata": {},
   "source": [
    "#### 3.1.1.1 特征抽取\n",
    "#### 逐条将原始数据转化为特征向量的形式，这个过程涉及对数据特征的量化表示"
   ]
  },
  {
   "cell_type": "markdown",
   "metadata": {},
   "source": [
    "##### 利用 DictVectorizer 对使用字典存储的数据进行特征抽取与向量化"
   ]
  },
  {
   "cell_type": "code",
   "execution_count": 2,
   "metadata": {},
   "outputs": [
    {
     "name": "stdout",
     "output_type": "stream",
     "text": [
      "[[ 1.  0.  0. 13.]\n",
      " [ 0.  1.  0. 30.]\n",
      " [ 0.  0.  1. 25.]]\n",
      "['city=Dubai', 'city=London', 'city=NewYork', 'temperature']\n"
     ]
    }
   ],
   "source": [
    "measurements = [{'city': 'Dubai',\n",
    "                 'temperature': 13},\n",
    "                {'city': 'London',\n",
    "                 'temperature': 30},\n",
    "                {'city': 'NewYork',\n",
    "                 'temperature': 25}]\n",
    "\n",
    "from sklearn.feature_extraction import DictVectorizer\n",
    "vec = DictVectorizer()\n",
    "print(vec.fit_transform(measurements).toarray())\n",
    "print(vec.get_feature_names())"
   ]
  },
  {
   "cell_type": "markdown",
   "metadata": {},
   "source": [
    "##### 3.1.1.2 特征筛选\n",
    "##### 在高维度、已量化的特征向量中选择对指定任务更有效的特征组合，进一步提升模型性能。"
   ]
  },
  {
   "cell_type": "code",
   "execution_count": null,
   "metadata": {},
   "outputs": [],
   "source": []
  },
  {
   "cell_type": "code",
   "execution_count": null,
   "metadata": {},
   "outputs": [],
   "source": []
  },
  {
   "cell_type": "code",
   "execution_count": null,
   "metadata": {},
   "outputs": [],
   "source": []
  }
 ],
 "metadata": {
  "kernelspec": {
   "display_name": "Python 3",
   "language": "python",
   "name": "python3"
  },
  "language_info": {
   "codemirror_mode": {
    "name": "ipython",
    "version": 3
   },
   "file_extension": ".py",
   "mimetype": "text/x-python",
   "name": "python",
   "nbconvert_exporter": "python",
   "pygments_lexer": "ipython3",
   "version": "3.7.4"
  }
 },
 "nbformat": 4,
 "nbformat_minor": 2
}
